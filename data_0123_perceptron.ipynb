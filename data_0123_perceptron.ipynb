{
  "nbformat": 4,
  "nbformat_minor": 0,
  "metadata": {
    "colab": {
      "name": "data_0123_perceptron.ipynb",
      "provenance": [],
      "collapsed_sections": [],
      "include_colab_link": true
    },
    "kernelspec": {
      "name": "python3",
      "display_name": "Python 3"
    },
    "language_info": {
      "name": "python"
    }
  },
  "cells": [
    {
      "cell_type": "markdown",
      "metadata": {
        "id": "view-in-github",
        "colab_type": "text"
      },
      "source": [
        "<a href=\"https://colab.research.google.com/github/dincersipka/sistemlab-perceptron/blob/main/data_0123_perceptron.ipynb\" target=\"_parent\"><img src=\"https://colab.research.google.com/assets/colab-badge.svg\" alt=\"Open In Colab\"/></a>"
      ]
    },
    {
      "cell_type": "code",
      "source": [
        "#185260012 - Dinçer Şipka\n",
        "\n",
        "# Ibrahim R Hallac\n",
        "# https://github.com/irhallac\n",
        "# Lojik kapıların Perceptron öğrenme algoritmasıyla modellenmesi\n",
        "    \n",
        "# credits for the Perceptron class: Aashir Javed\n",
        "# Available: github.com/aashirjaved\n",
        "# Perceptron-Machine-Learning-Using-Python-\n",
        "# File: Perceptron.py"
      ],
      "metadata": {
        "id": "I7sz4vaJQpvM"
      },
      "execution_count": null,
      "outputs": []
    },
    {
      "cell_type": "code",
      "source": [
        "import matplotlib.pyplot as plt\n",
        "import numpy as np\n",
        "import pandas"
      ],
      "metadata": {
        "id": "8MkfMisUP8f6"
      },
      "execution_count": 23,
      "outputs": []
    },
    {
      "cell_type": "code",
      "source": [
        "#CSV verilerini okuyup dataframe olarak tutuyoruz\n",
        "\n",
        "df = pandas.read_csv('https://raw.githubusercontent.com/irhallac/SisLab/631e5e0b531d22393d9dad47623a0e1de76d8f34/hw_data/data_0123.csv', header=None)\n",
        "df"
      ],
      "metadata": {
        "id": "4_l_FEMbeOf7",
        "colab": {
          "base_uri": "https://localhost:8080/",
          "height": 423
        },
        "outputId": "7140a854-0352-48cf-ed04-805ab598af5b"
      },
      "execution_count": 22,
      "outputs": [
        {
          "output_type": "execute_result",
          "data": {
            "text/html": [
              "\n",
              "  <div id=\"df-9b5f31e6-f65b-44fe-90aa-06e6b7889836\">\n",
              "    <div class=\"colab-df-container\">\n",
              "      <div>\n",
              "<style scoped>\n",
              "    .dataframe tbody tr th:only-of-type {\n",
              "        vertical-align: middle;\n",
              "    }\n",
              "\n",
              "    .dataframe tbody tr th {\n",
              "        vertical-align: top;\n",
              "    }\n",
              "\n",
              "    .dataframe thead th {\n",
              "        text-align: right;\n",
              "    }\n",
              "</style>\n",
              "<table border=\"1\" class=\"dataframe\">\n",
              "  <thead>\n",
              "    <tr style=\"text-align: right;\">\n",
              "      <th></th>\n",
              "      <th>0</th>\n",
              "      <th>1</th>\n",
              "      <th>2</th>\n",
              "      <th>3</th>\n",
              "      <th>4</th>\n",
              "      <th>5</th>\n",
              "      <th>6</th>\n",
              "      <th>7</th>\n",
              "    </tr>\n",
              "  </thead>\n",
              "  <tbody>\n",
              "    <tr>\n",
              "      <th>0</th>\n",
              "      <td>NaN</td>\n",
              "      <td>ozellik-1</td>\n",
              "      <td>ozellik-2</td>\n",
              "      <td>ozellik-3</td>\n",
              "      <td>ozellik-4</td>\n",
              "      <td>ozellik-5</td>\n",
              "      <td>ozellik-6</td>\n",
              "      <td>cikis</td>\n",
              "    </tr>\n",
              "    <tr>\n",
              "      <th>1</th>\n",
              "      <td>0.0</td>\n",
              "      <td>-7.43524376807876</td>\n",
              "      <td>-4.174863989374225</td>\n",
              "      <td>8.681144350265372</td>\n",
              "      <td>0.6689198460442981</td>\n",
              "      <td>-6.065572194257408</td>\n",
              "      <td>-2.1846252877118433</td>\n",
              "      <td>0</td>\n",
              "    </tr>\n",
              "    <tr>\n",
              "      <th>2</th>\n",
              "      <td>1.0</td>\n",
              "      <td>8.391228868187953</td>\n",
              "      <td>-9.339413646962674</td>\n",
              "      <td>-0.7081285456529649</td>\n",
              "      <td>1.7401474836179736</td>\n",
              "      <td>-3.4131668349248616</td>\n",
              "      <td>-7.336958698185232</td>\n",
              "      <td>1</td>\n",
              "    </tr>\n",
              "    <tr>\n",
              "      <th>3</th>\n",
              "      <td>2.0</td>\n",
              "      <td>-5.634695743414545</td>\n",
              "      <td>-3.565606355429833</td>\n",
              "      <td>9.664936352717044</td>\n",
              "      <td>2.732507047261708</td>\n",
              "      <td>-6.960467400518391</td>\n",
              "      <td>-0.8733563835962883</td>\n",
              "      <td>0</td>\n",
              "    </tr>\n",
              "    <tr>\n",
              "      <th>4</th>\n",
              "      <td>3.0</td>\n",
              "      <td>-6.330259003798252</td>\n",
              "      <td>-3.8256599344938773</td>\n",
              "      <td>9.589395582499485</td>\n",
              "      <td>0.9173987646197139</td>\n",
              "      <td>-6.954611368784061</td>\n",
              "      <td>-1.565933397485238</td>\n",
              "      <td>0</td>\n",
              "    </tr>\n",
              "    <tr>\n",
              "      <th>...</th>\n",
              "      <td>...</td>\n",
              "      <td>...</td>\n",
              "      <td>...</td>\n",
              "      <td>...</td>\n",
              "      <td>...</td>\n",
              "      <td>...</td>\n",
              "      <td>...</td>\n",
              "      <td>...</td>\n",
              "    </tr>\n",
              "    <tr>\n",
              "      <th>94</th>\n",
              "      <td>93.0</td>\n",
              "      <td>8.503909184457228</td>\n",
              "      <td>-9.336052548492042</td>\n",
              "      <td>-0.8757955902189782</td>\n",
              "      <td>1.8509760002631763</td>\n",
              "      <td>-4.714561400297591</td>\n",
              "      <td>-5.387236360241952</td>\n",
              "      <td>1</td>\n",
              "    </tr>\n",
              "    <tr>\n",
              "      <th>95</th>\n",
              "      <td>94.0</td>\n",
              "      <td>-7.164673617402079</td>\n",
              "      <td>-4.588733694935779</td>\n",
              "      <td>10.326705183017737</td>\n",
              "      <td>1.0559655081441597</td>\n",
              "      <td>-6.221009050070445</td>\n",
              "      <td>-3.4115196336723046</td>\n",
              "      <td>0</td>\n",
              "    </tr>\n",
              "    <tr>\n",
              "      <th>96</th>\n",
              "      <td>95.0</td>\n",
              "      <td>8.095333790965675</td>\n",
              "      <td>-9.62138198190637</td>\n",
              "      <td>0.9356796711657802</td>\n",
              "      <td>3.3340071814904526</td>\n",
              "      <td>-4.308568796330791</td>\n",
              "      <td>-7.683909011540598</td>\n",
              "      <td>1</td>\n",
              "    </tr>\n",
              "    <tr>\n",
              "      <th>97</th>\n",
              "      <td>96.0</td>\n",
              "      <td>-6.126117305793422</td>\n",
              "      <td>-3.855354201884977</td>\n",
              "      <td>10.318826739106612</td>\n",
              "      <td>2.963437093088043</td>\n",
              "      <td>-6.576239889779095</td>\n",
              "      <td>-2.5396168368122796</td>\n",
              "      <td>0</td>\n",
              "    </tr>\n",
              "    <tr>\n",
              "      <th>98</th>\n",
              "      <td>97.0</td>\n",
              "      <td>9.266377394565549</td>\n",
              "      <td>-10.53470626561594</td>\n",
              "      <td>-1.479788903236924</td>\n",
              "      <td>0.580825907536888</td>\n",
              "      <td>-4.149472643761511</td>\n",
              "      <td>-7.690642506780128</td>\n",
              "      <td>1</td>\n",
              "    </tr>\n",
              "  </tbody>\n",
              "</table>\n",
              "<p>99 rows × 8 columns</p>\n",
              "</div>\n",
              "      <button class=\"colab-df-convert\" onclick=\"convertToInteractive('df-9b5f31e6-f65b-44fe-90aa-06e6b7889836')\"\n",
              "              title=\"Convert this dataframe to an interactive table.\"\n",
              "              style=\"display:none;\">\n",
              "        \n",
              "  <svg xmlns=\"http://www.w3.org/2000/svg\" height=\"24px\"viewBox=\"0 0 24 24\"\n",
              "       width=\"24px\">\n",
              "    <path d=\"M0 0h24v24H0V0z\" fill=\"none\"/>\n",
              "    <path d=\"M18.56 5.44l.94 2.06.94-2.06 2.06-.94-2.06-.94-.94-2.06-.94 2.06-2.06.94zm-11 1L8.5 8.5l.94-2.06 2.06-.94-2.06-.94L8.5 2.5l-.94 2.06-2.06.94zm10 10l.94 2.06.94-2.06 2.06-.94-2.06-.94-.94-2.06-.94 2.06-2.06.94z\"/><path d=\"M17.41 7.96l-1.37-1.37c-.4-.4-.92-.59-1.43-.59-.52 0-1.04.2-1.43.59L10.3 9.45l-7.72 7.72c-.78.78-.78 2.05 0 2.83L4 21.41c.39.39.9.59 1.41.59.51 0 1.02-.2 1.41-.59l7.78-7.78 2.81-2.81c.8-.78.8-2.07 0-2.86zM5.41 20L4 18.59l7.72-7.72 1.47 1.35L5.41 20z\"/>\n",
              "  </svg>\n",
              "      </button>\n",
              "      \n",
              "  <style>\n",
              "    .colab-df-container {\n",
              "      display:flex;\n",
              "      flex-wrap:wrap;\n",
              "      gap: 12px;\n",
              "    }\n",
              "\n",
              "    .colab-df-convert {\n",
              "      background-color: #E8F0FE;\n",
              "      border: none;\n",
              "      border-radius: 50%;\n",
              "      cursor: pointer;\n",
              "      display: none;\n",
              "      fill: #1967D2;\n",
              "      height: 32px;\n",
              "      padding: 0 0 0 0;\n",
              "      width: 32px;\n",
              "    }\n",
              "\n",
              "    .colab-df-convert:hover {\n",
              "      background-color: #E2EBFA;\n",
              "      box-shadow: 0px 1px 2px rgba(60, 64, 67, 0.3), 0px 1px 3px 1px rgba(60, 64, 67, 0.15);\n",
              "      fill: #174EA6;\n",
              "    }\n",
              "\n",
              "    [theme=dark] .colab-df-convert {\n",
              "      background-color: #3B4455;\n",
              "      fill: #D2E3FC;\n",
              "    }\n",
              "\n",
              "    [theme=dark] .colab-df-convert:hover {\n",
              "      background-color: #434B5C;\n",
              "      box-shadow: 0px 1px 3px 1px rgba(0, 0, 0, 0.15);\n",
              "      filter: drop-shadow(0px 1px 2px rgba(0, 0, 0, 0.3));\n",
              "      fill: #FFFFFF;\n",
              "    }\n",
              "  </style>\n",
              "\n",
              "      <script>\n",
              "        const buttonEl =\n",
              "          document.querySelector('#df-9b5f31e6-f65b-44fe-90aa-06e6b7889836 button.colab-df-convert');\n",
              "        buttonEl.style.display =\n",
              "          google.colab.kernel.accessAllowed ? 'block' : 'none';\n",
              "\n",
              "        async function convertToInteractive(key) {\n",
              "          const element = document.querySelector('#df-9b5f31e6-f65b-44fe-90aa-06e6b7889836');\n",
              "          const dataTable =\n",
              "            await google.colab.kernel.invokeFunction('convertToInteractive',\n",
              "                                                     [key], {});\n",
              "          if (!dataTable) return;\n",
              "\n",
              "          const docLinkHtml = 'Like what you see? Visit the ' +\n",
              "            '<a target=\"_blank\" href=https://colab.research.google.com/notebooks/data_table.ipynb>data table notebook</a>'\n",
              "            + ' to learn more about interactive tables.';\n",
              "          element.innerHTML = '';\n",
              "          dataTable['output_type'] = 'display_data';\n",
              "          await google.colab.output.renderOutput(dataTable, element);\n",
              "          const docLink = document.createElement('div');\n",
              "          docLink.innerHTML = docLinkHtml;\n",
              "          element.appendChild(docLink);\n",
              "        }\n",
              "      </script>\n",
              "    </div>\n",
              "  </div>\n",
              "  "
            ],
            "text/plain": [
              "       0                   1  ...                    6      7\n",
              "0    NaN           ozellik-1  ...            ozellik-6  cikis\n",
              "1    0.0   -7.43524376807876  ...  -2.1846252877118433      0\n",
              "2    1.0   8.391228868187953  ...   -7.336958698185232      1\n",
              "3    2.0  -5.634695743414545  ...  -0.8733563835962883      0\n",
              "4    3.0  -6.330259003798252  ...   -1.565933397485238      0\n",
              "..   ...                 ...  ...                  ...    ...\n",
              "94  93.0   8.503909184457228  ...   -5.387236360241952      1\n",
              "95  94.0  -7.164673617402079  ...  -3.4115196336723046      0\n",
              "96  95.0   8.095333790965675  ...   -7.683909011540598      1\n",
              "97  96.0  -6.126117305793422  ...  -2.5396168368122796      0\n",
              "98  97.0   9.266377394565549  ...   -7.690642506780128      1\n",
              "\n",
              "[99 rows x 8 columns]"
            ]
          },
          "metadata": {},
          "execution_count": 22
        }
      ]
    },
    {
      "cell_type": "code",
      "source": [
        "cikis = df.iloc[1:100, 7].values #Çıkış verilerini tutuyoruz\n",
        "giris = df.iloc[1:100, [1, 4, 5]].values #Giriş olarak 1,4 ve 5. satırları alıyoruz\n",
        "\n",
        "#İşlem yapabilmek için giris ve cikis değerlerini float tipine dönüştürüyoruz\n",
        "giris = giris.astype(float) \n",
        "cikis = cikis.astype(float)\n",
        "\n",
        "\n",
        "#Veri dağılımını göstermek için grafik çizdiriyoruz\n",
        "plt.title('2D görünüm', fontsize=16)\n",
        "\n",
        "plt.scatter(giris[:50, 0], giris[:50, 1], color='black', marker='o', label=' ')\n",
        "plt.scatter(giris[50:100, 0], giris[50:100, -1], color='green', marker='x', label=' ')\n",
        "plt.xlabel('sapel length')\n",
        "plt.ylabel('petal length')\n",
        "plt.legend(loc='upper left')\n",
        "\n",
        "plt.show()"
      ],
      "metadata": {
        "id": "CWVfaaGYeYbV",
        "colab": {
          "base_uri": "https://localhost:8080/",
          "height": 297
        },
        "outputId": "ee392d09-3eec-4527-f3ab-c112e3a06668"
      },
      "execution_count": 27,
      "outputs": [
        {
          "output_type": "display_data",
          "data": {
            "image/png": "[encoded data removed]",
            "text/plain": [
              "<Figure size 432x288 with 1 Axes>"
            ]
          },
          "metadata": {
            "needs_background": "light"
          }
        }
      ]
    },
    {
      "cell_type": "code",
      "source": [
        "class Perceptron(object): \n",
        "    def __init__(self, ogrenme_orani=0.1, iter_sayisi=10):\n",
        "        self.ogrenme_orani = ogrenme_orani\n",
        "        self.iter_sayisi = iter_sayisi\n",
        "\n",
        "    def ogren(self, X, y):\n",
        "        self.w = np.zeros(1 + X.shape[1]) #Girişlerin çarpılacağı ağırlık değerlerini veriyoruz, 3 elemanlı bir giriş için 3 ağırlık değeri ve ilk elemana bias değeri veriyor bias değeri hata/sapma değeri\n",
        "        self.hatalar = [] #Hata sayılarının tutulacağı diziyi oluşturuyoruz\n",
        "        for _ in range(self.iter_sayisi):\n",
        "            hata = 0\n",
        "            for xi, hedef in zip(X, y):\n",
        "                degisim = self.ogrenme_orani * (hedef - self.tahmin(xi))\n",
        "                self.w[1:] += degisim * xi\n",
        "                self.w[0] += degisim\n",
        "                hata += int(degisim != 0.0)\n",
        "            self.hatalar.append(hata)\n",
        "        return self\n",
        "\n",
        "    def net_input(self, X):\n",
        "        return np.dot(X, self.w[1:]) + self.w[0] #X değerlerini ağırlık değerleriyle çarpıyoruz\n",
        "\n",
        "    def tahmin(self, x):\n",
        "        return np.where(self.net_input(x) >= 0.0, 1, 0) #Net_input değeri 0.0 büyük ya da eşitse 1, değilse 0 olacak"
      ],
      "metadata": {
        "id": "N8F1p5oLsYgw"
      },
      "execution_count": 28,
      "outputs": []
    },
    {
      "cell_type": "code",
      "source": [
        "siniflandirici = Perceptron(ogrenme_orani=0.1, iter_sayisi=15) #Perceptron sınıfından bir nesne üretiyoruz\n",
        "\n",
        "siniflandirici.ogren(giris, cikis) #Modeli eğitmek için giriş ve çıkış değerlerini veriyoruz\n",
        "\n",
        "print(\"W : \", siniflandirici.w, \"\\n\\nHatalar : \", siniflandirici.hatalar)"
      ],
      "metadata": {
        "colab": {
          "base_uri": "https://localhost:8080/"
        },
        "id": "-DARQDqqIcf0",
        "outputId": "de857186-47e3-4501-d0ae-3e8914b40fe2"
      },
      "execution_count": 29,
      "outputs": [
        {
          "output_type": "stream",
          "name": "stdout",
          "text": [
            "W :  [-0.1         0.74352438 -0.06689198  0.60655722] \n",
            "\n",
            "Hatalar :  [1, 0, 0, 0, 0, 0, 0, 0, 0, 0, 0, 0, 0, 0, 0]\n"
          ]
        }
      ]
    },
    {
      "cell_type": "code",
      "source": [
        "#İterasyonlarda gerçekleşen hataları göstermek için grafik çiziyoruz\n",
        "\n",
        "plt.plot(range(1, len(siniflandirici.hatalar) + 1), siniflandirici.hatalar)\n",
        "plt.xlabel('Deneme')\n",
        "plt.ylabel('Hatalı tahmin sayısı')\n",
        "plt.show()"
      ],
      "metadata": {
        "colab": {
          "base_uri": "https://localhost:8080/",
          "height": 279
        },
        "id": "R_4EIZEVXJpT",
        "outputId": "54d916b9-b164-474e-dd47-fedce73fa291"
      },
      "execution_count": 30,
      "outputs": [
        {
          "output_type": "display_data",
          "data": {
            "image/png": "[encoded data removed]",
            "text/plain": [
              "<Figure size 432x288 with 1 Axes>"
            ]
          },
          "metadata": {
            "needs_background": "light"
          }
        }
      ]
    }
  ]
}